{
 "cells": [
  {
   "cell_type": "code",
   "execution_count": null,
   "id": "ec837564",
   "metadata": {},
   "outputs": [],
   "source": [
    "!pip install -U \"ray[rllib] == 1.6\"\n",
    "!pip install -U \"ray[tune]\"\n",
    "!pip install gym[atari,accept-rom-license]==0.21.0"
   ]
  },
  {
   "cell_type": "code",
   "execution_count": null,
   "id": "c98532ff",
   "metadata": {},
   "outputs": [],
   "source": [
    "import gym\n",
    "import numpy as np\n",
    "import ray\n",
    "from ray import tune\n",
    "import ray.rllib.agents.a3c as a3c"
   ]
  },
  {
   "cell_type": "code",
   "execution_count": null,
   "id": "1ed1720c",
   "metadata": {},
   "outputs": [],
   "source": [
    "config = a3c.DEFAULT_CONFIG.copy()\n",
    "config['env'] = 'Pong-ram-v0'\n",
    "config['num_gpus'] = 0\n",
    "config['num_workers'] = 7\n",
    "config['num_envs_per_worker'] = 5\n",
    "config['framework'] = 'tf'\n",
    "config['rollout_fragment_length'] = 20 # increase rollout batch size"
   ]
  },
  {
   "cell_type": "code",
   "execution_count": null,
   "id": "0b359c4b",
   "metadata": {},
   "outputs": [],
   "source": [
    "analysis = tune.run('A3C',\n",
    "                    config = {\n",
    "        # Works for both torch and tf.\n",
    "        'env': 'Pong-ram-v0',\n",
    "        'num_gpus': 0,\n",
    "        'framework': 'tf',\n",
    "        'num_workers': 7,\n",
    "        'rollout_fragment_length': 20,\n",
    "        \"num_envs_per_worker\": 5,\n",
    "        \"lambda\": 0.95})"
   ]
  },
  {
   "cell_type": "code",
   "execution_count": null,
   "id": "90f7cc63",
   "metadata": {},
   "outputs": [],
   "source": [
    "%load_ext tensorboard\n",
    "%tensorboard --logdir /root/ray_results/"
   ]
  }
 ],
 "metadata": {
  "kernelspec": {
   "display_name": "Python 3 (ipykernel)",
   "language": "python",
   "name": "python3"
  },
  "language_info": {
   "codemirror_mode": {
    "name": "ipython",
    "version": 3
   },
   "file_extension": ".py",
   "mimetype": "text/x-python",
   "name": "python",
   "nbconvert_exporter": "python",
   "pygments_lexer": "ipython3",
   "version": "3.8.12"
  }
 },
 "nbformat": 4,
 "nbformat_minor": 5
}
